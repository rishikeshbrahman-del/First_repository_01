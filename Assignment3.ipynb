{
 "cells": [
  {
   "cell_type": "markdown",
   "id": "4569e2de-f844-465e-995e-4d31a911fedc",
   "metadata": {},
   "source": [
    "# Excercise 1 #\n",
    "1. Write a lambda expression to get the product of two numbers.  \n",
    " Run test for expression(5,6)  \n",
    " Output: 30  \n"
   ]
  },
  {
   "cell_type": "code",
   "execution_count": 20,
   "id": "51b7e4c8-c1fc-4c90-8179-07009aa57ec7",
   "metadata": {},
   "outputs": [
    {
     "data": {
      "text/plain": [
       "30"
      ]
     },
     "execution_count": 20,
     "metadata": {},
     "output_type": "execute_result"
    }
   ],
   "source": [
    "# Using lambda to multiply 2 numbers\n",
    "\n",
    "x = lambda num1,num2 : num1*num2\n",
    "x(5,6)"
   ]
  },
  {
   "cell_type": "markdown",
   "id": "7d79f0f7-0e94-467e-8f3b-7195ce061ca4",
   "metadata": {},
   "source": [
    "# Excercise 2 #\n",
    "\n",
    "2. Write a function to get the area of a circle from the radius.\n",
    "Hint: remember to import the right modul for being able to calculte the area of the circle.  \n",
    "Run test for function(10)  \n",
    "Output: 314.1592653589793  \n"
   ]
  },
  {
   "cell_type": "code",
   "execution_count": 21,
   "id": "7dfc437f-750d-412b-9090-a6f6eb611fee",
   "metadata": {},
   "outputs": [
    {
     "data": {
      "text/plain": [
       "314.1592653589793"
      ]
     },
     "execution_count": 21,
     "metadata": {},
     "output_type": "execute_result"
    }
   ],
   "source": [
    "import math\n",
    "\n",
    "# use math function get the correct value of pi\n",
    "number = math.pi\n",
    "\n",
    "# Function to calcutale the area of a circle\n",
    "\n",
    "def multiplyer(num1,num2):\n",
    "    return num1*(num2**2)\n",
    "multiplyer(number,10)\n"
   ]
  },
  {
   "cell_type": "markdown",
   "id": "7f6dc95d-97b6-42ba-aaeb-800a39ffea9a",
   "metadata": {},
   "source": [
    "# Excercise 3 #\n",
    "\n",
    "3. Build a simple calculator which can: add, subtract, multiply, divide.\n",
    "Hint: solve by writing a function that takes as argument two numbers and the operation and\n",
    "returns the desired output.  \n",
    "Run test for function(2,5,’d’)  \n",
    "Output: 0.4  "
   ]
  },
  {
   "cell_type": "code",
   "execution_count": 27,
   "id": "ced78b05-6e89-4cc0-aa23-8f88c54b8569",
   "metadata": {},
   "outputs": [
    {
     "name": "stdin",
     "output_type": "stream",
     "text": [
      "Enter first number:  2\n"
     ]
    },
    {
     "name": "stdout",
     "output_type": "stream",
     "text": [
      "First number: 2.0\n"
     ]
    },
    {
     "name": "stdin",
     "output_type": "stream",
     "text": [
      "Enter second number:  5\n"
     ]
    },
    {
     "name": "stdout",
     "output_type": "stream",
     "text": [
      "second number: 5.0\n"
     ]
    },
    {
     "name": "stdin",
     "output_type": "stream",
     "text": [
      "Select a-addition,s-substraction,m-multiplication,d-divition :  d\n"
     ]
    },
    {
     "name": "stdout",
     "output_type": "stream",
     "text": [
      "choice: d\n",
      "Output: 0.4\n"
     ]
    }
   ],
   "source": [
    "# Function for calculator operations\n",
    "def calculater1(num1, num2,Operator1): \n",
    "    if Operator1 == 'a': # addition\n",
    "      return num1 + num2 \n",
    "    elif Operator1 == 's': # substraction\n",
    "      return num1 - num2\n",
    "    elif Operator1 == 'm': # multiplication\n",
    "      return num1 * num2\n",
    "    elif Operator1 == 'd': # Division\n",
    "      return num1 / num2\n",
    "    else:\n",
    "      print('Your choice is incorrect')\n",
    "\n",
    "        \n",
    "number1 = float(input('Enter first number: '))\n",
    "print('First number:', number1)\n",
    "number2 = float(input('Enter second number: '))\n",
    "print('second number:', number2)\n",
    "choice = input('Select a-addition,s-substraction,m-multiplication,d-divition : ')\n",
    "print('choice:', choice)\n",
    "\n",
    "\n",
    "# Calling the function Calculator1\n",
    "result = calculater1(number1,number2,choice )\n",
    "print('Output:', result)        \n",
    "    \n",
    "    \n",
    "   \n",
    "    \n",
    "\n"
   ]
  },
  {
   "cell_type": "markdown",
   "id": "e4d44b4a-48d6-42de-916a-84de8645e78f",
   "metadata": {},
   "source": [
    "# Excercise 4 #\n",
    "\n",
    "4. Define a class named Rectangle which can be constructed by a length and width.\n",
    "The Rectangle class has a method which can compute the area.\n",
    "Run test for r = Rectangle(5,10)\n",
    " r.area()  \n",
    "Output: 50  "
   ]
  },
  {
   "cell_type": "code",
   "execution_count": 23,
   "id": "450f1d9b-344d-4053-9786-f8d15177e620",
   "metadata": {},
   "outputs": [
    {
     "name": "stdout",
     "output_type": "stream",
     "text": [
      "Output: 50\n"
     ]
    }
   ],
   "source": [
    "class Rectangle:\n",
    "    def __init__(self, length, width):\n",
    "        self.length = length\n",
    "        self.width = width\n",
    "    \n",
    "    def area(self):\n",
    "        return self.length * self.width\n",
    "\n",
    "\n",
    "\n",
    "r = Rectangle(5, 10)\n",
    "print('Output:',r.area()) "
   ]
  },
  {
   "cell_type": "markdown",
   "id": "c3c736dc-22db-46ee-9eea-88b507bcc7ca",
   "metadata": {},
   "source": [
    "# Excercise 5 #\n",
    "\n",
    "5. Define a class named Shape and its subclass Square.\n",
    "Shape objects can be consrtucted by name and length has an area function wich return 0\n",
    "Square subclass has an init function which take a length and name as argument and has an\n",
    "area method and a describe method what prints the name of the Shape.  \n",
    " Print the area from Square class.  \n",
    " Run test for: s = Square('square',5)  \n",
    " print(s.area())  \n",
    " print(s.describe())  \n",
    "  Output: The area is :\n",
    "               25  \n",
    "  This is a: square  \n",
    "\n"
   ]
  },
  {
   "cell_type": "code",
   "execution_count": 24,
   "id": "643f4bb4-be0b-493f-879c-c62f5d22ff83",
   "metadata": {},
   "outputs": [
    {
     "name": "stdout",
     "output_type": "stream",
     "text": [
      "The area is: \n",
      "    25    \n",
      "This is a: square\n"
     ]
    }
   ],
   "source": [
    "\n",
    "\n",
    "class Shape:\n",
    "    def __init__(self, name, length):\n",
    "        self.name = name\n",
    "        self.length = length\n",
    "\n",
    "    def area(self):\n",
    "        return 0\n",
    "\n",
    "\n",
    "class Square(Shape):\n",
    "    def __init__(self, name, length):\n",
    "        super().__init__(name, length) # Calls the parent constructor Shape\n",
    "\n",
    "    def area(self):\n",
    "        return self.length * self.length\n",
    "\n",
    "    def describe(self):\n",
    "        return self.name\n",
    "\n",
    "\n",
    "\n",
    "s = Square('square', 5) # calls the subclass square\n",
    "print(\"The area is: \")\n",
    "printline = str(s.area()) # calls the area method in the subclass square\n",
    "printline= printline.center(10)\n",
    "print(printline)     \n",
    "print('This is a:',s.describe()) # calls the describe method in the subclass square"
   ]
  },
  {
   "cell_type": "code",
   "execution_count": null,
   "id": "987a3787-4047-47a7-bdf8-bcc0b6943f5d",
   "metadata": {},
   "outputs": [],
   "source": []
  },
  {
   "cell_type": "code",
   "execution_count": null,
   "id": "c14dd3b9-106f-474f-918b-ec26e50c5fc9",
   "metadata": {},
   "outputs": [],
   "source": []
  },
  {
   "cell_type": "code",
   "execution_count": null,
   "id": "c65b5dd0-ff6f-4927-ac8d-749fd3422c54",
   "metadata": {},
   "outputs": [],
   "source": []
  }
 ],
 "metadata": {
  "kernelspec": {
   "display_name": "Python [conda env:base] *",
   "language": "python",
   "name": "conda-base-py"
  },
  "language_info": {
   "codemirror_mode": {
    "name": "ipython",
    "version": 3
   },
   "file_extension": ".py",
   "mimetype": "text/x-python",
   "name": "python",
   "nbconvert_exporter": "python",
   "pygments_lexer": "ipython3",
   "version": "3.13.5"
  }
 },
 "nbformat": 4,
 "nbformat_minor": 5
}
